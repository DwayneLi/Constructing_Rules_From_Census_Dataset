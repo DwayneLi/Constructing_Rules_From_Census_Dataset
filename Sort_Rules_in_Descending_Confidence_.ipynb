{
  "nbformat": 4,
  "nbformat_minor": 0,
  "metadata": {
    "kernelspec": {
      "display_name": "Python 3",
      "language": "python",
      "name": "python3"
    },
    "language_info": {
      "codemirror_mode": {
        "name": "ipython",
        "version": 3
      },
      "file_extension": ".py",
      "mimetype": "text/x-python",
      "name": "python",
      "nbconvert_exporter": "python",
      "pygments_lexer": "ipython3",
      "version": "3.7.1"
    },
    "colab": {
      "name": "IBM sort rules in descending confidence .ipynb",
      "provenance": [],
      "collapsed_sections": []
    }
  },
  "cells": [
    {
      "cell_type": "markdown",
      "metadata": {
        "id": "EBXBCmDU6PHD",
        "colab_type": "text"
      },
      "source": [
        "## **Introduction**\n",
        "\n",
        "The adult.data contain over 30000 rows of demographic information and some of then can combined into groups. For example one person have 'native-country' = 'United-States' and 'capital-gain' = '0'. These attributes can lead to strategic data-driven decisions. Take first 10 line of data as input, we can find the following patterns that identify the groups with no capital gain or loss:\n",
        "\n",
        "- There are 7 people with {capital-gain=None, capital-loss=None}\t\n",
        "- There are 5 people with {native-country=United-States, capital-gainn=None, capital-loss=None}\n",
        "- There are 5 people with {native-country=United-States, capital-gain=None}\n",
        "- There are 8 people with {native-country=United-States, capital-loss=None}\n",
        "\n",
        "The *support* of the set of attributes in definded as the ratio of \"total number of records with the given attributes\" to \" total number of records in the dataset\". For example.\n",
        "\n",
        "- The support of {capital-gain=None, capital-loss=None}\tis 7/10 = 0.7\n",
        "\n",
        "We can now derive some rules **X=>Y**, where X and Y describe the attributes set. The confidence of the rule is defined as the ratio of \"total number of records with the given unique attributes in X and Y\" to \"total number of records with the given attributes in X\", i.e., the ratio of \"support of X U Y\" to \"support of X\". For example:\n",
        "\n",
        "- The confidence of the rule {native-country=United-States, capital-gain=None} =>{capital-loss=None} is 0.5/0/5=1.0\n",
        "- The confidence of the rule {capital-gain=None, capital-loss=None} =>{native-country=United-States} is 0.5/0/7=0.71\n",
        "\n",
        "\n",
        "\n",
        "### **Task**\n",
        "Rearrange the given set of rules X=>Y in descending order of confidence. It is guaranteed that no two rules have the same confidence. Also, the support of the attributes sets X and Y in each of the rules is greater thant or equal to 0.3\n",
        "\n",
        "### **Function Description**\n",
        "Complete the *arrangeingRules* function. The function must return a string of the rules in descending order of confidence.\n",
        "\n",
        "*arrangingRules* has the following parameter:\n",
        "rules: an array of rules strings\n",
        "\n",
        "###  **Sample Input**\n",
        "3\\\n",
        "{native-country=United-States,capital-gain=None}=>{capital-loss=None} \\\n",
        "{capital-gain=None,capital-loss=None}=>{native-country=United-States} \\\n",
        "{native-country=United-States,capital-loss=None}=>{capital-gain=None}\n",
        "\n",
        "### **Sample Output**\n",
        "{native-country=United-States,capital-gain=None}=>{capital-loss=None}\\\n",
        "{native-country=United-States,capital-loss=None}=>{capital-gain=None}\\\n",
        "{capital-gain=None,capital-loss=None}=>{native-country=United-States} \\\n",
        "\n",
        "### **Explanation**\n",
        "- The confidence of {native-country=United-States,capital-gain=None}=>{capital-loss=None} is 0.94\n",
        "- The confidence of {native-country=United-States,capital-loss=None}=>{capital-gain=None} is 0.9098\n",
        "- The confidence of {capital-gain=None,capital-loss=None}=>{native-country=United-States} is 0.9091"
      ]
    },
    {
      "cell_type": "markdown",
      "metadata": {
        "id": "H3MYa7-O6VAp",
        "colab_type": "text"
      },
      "source": [
        "### Import Data"
      ]
    },
    {
      "cell_type": "code",
      "metadata": {
        "id": "YCwb8NjNGTC8",
        "colab_type": "code",
        "colab": {}
      },
      "source": [
        "!pip install -q wget\n",
        "import wget\n",
        "!wget -q \"https://archive.ics.uci.edu/ml/machine-learning-databases/adult/adult.data\""
      ],
      "execution_count": 7,
      "outputs": []
    },
    {
      "cell_type": "code",
      "metadata": {
        "id": "s6FqAvIqOkqy",
        "colab_type": "code",
        "colab": {
          "base_uri": "https://localhost:8080/",
          "height": 35
        },
        "outputId": "b80b57aa-936c-497a-ad53-aded24362349"
      },
      "source": [
        "!ls"
      ],
      "execution_count": 8,
      "outputs": [
        {
          "output_type": "stream",
          "text": [
            "adult.data  adult.data.1  adult.data.2\tsample_data\n"
          ],
          "name": "stdout"
        }
      ]
    },
    {
      "cell_type": "code",
      "metadata": {
        "id": "0F8O7P0yGOHr",
        "colab_type": "code",
        "colab": {
          "base_uri": "https://localhost:8080/",
          "height": 204
        },
        "outputId": "c06cb5d6-5051-4b78-b416-377e4e664dd9"
      },
      "source": [
        "import pandas as pd\n",
        "import string\n",
        "!pip install -q apyori\n",
        "from apyori import apriori\n",
        "names = [\n",
        "    'age',\n",
        "    'workclass',\n",
        "    'fnlwgt',\n",
        "    'education',\n",
        "    'education-num',\n",
        "    'marital-status',\n",
        "    'occupation',\n",
        "    'relationship',\n",
        "    'race',\n",
        "    'sex',\n",
        "    'capital-gain',\n",
        "    'capital-loss',\n",
        "    'hours-per-week',\n",
        "    'native-country',\n",
        "    'income'\n",
        "]\n",
        "data = pd.read_csv('adult.data', names=names)\n",
        "data.head()"
      ],
      "execution_count": 12,
      "outputs": [
        {
          "output_type": "execute_result",
          "data": {
            "text/html": [
              "<div>\n",
              "<style scoped>\n",
              "    .dataframe tbody tr th:only-of-type {\n",
              "        vertical-align: middle;\n",
              "    }\n",
              "\n",
              "    .dataframe tbody tr th {\n",
              "        vertical-align: top;\n",
              "    }\n",
              "\n",
              "    .dataframe thead th {\n",
              "        text-align: right;\n",
              "    }\n",
              "</style>\n",
              "<table border=\"1\" class=\"dataframe\">\n",
              "  <thead>\n",
              "    <tr style=\"text-align: right;\">\n",
              "      <th></th>\n",
              "      <th>age</th>\n",
              "      <th>workclass</th>\n",
              "      <th>fnlwgt</th>\n",
              "      <th>education</th>\n",
              "      <th>education-num</th>\n",
              "      <th>marital-status</th>\n",
              "      <th>occupation</th>\n",
              "      <th>relationship</th>\n",
              "      <th>race</th>\n",
              "      <th>sex</th>\n",
              "      <th>capital-gain</th>\n",
              "      <th>capital-loss</th>\n",
              "      <th>hours-per-week</th>\n",
              "      <th>native-country</th>\n",
              "      <th>income</th>\n",
              "    </tr>\n",
              "  </thead>\n",
              "  <tbody>\n",
              "    <tr>\n",
              "      <th>0</th>\n",
              "      <td>39</td>\n",
              "      <td>State-gov</td>\n",
              "      <td>77516</td>\n",
              "      <td>Bachelors</td>\n",
              "      <td>13</td>\n",
              "      <td>Never-married</td>\n",
              "      <td>Adm-clerical</td>\n",
              "      <td>Not-in-family</td>\n",
              "      <td>White</td>\n",
              "      <td>Male</td>\n",
              "      <td>2174</td>\n",
              "      <td>0</td>\n",
              "      <td>40</td>\n",
              "      <td>United-States</td>\n",
              "      <td>&lt;=50K</td>\n",
              "    </tr>\n",
              "    <tr>\n",
              "      <th>1</th>\n",
              "      <td>50</td>\n",
              "      <td>Self-emp-not-inc</td>\n",
              "      <td>83311</td>\n",
              "      <td>Bachelors</td>\n",
              "      <td>13</td>\n",
              "      <td>Married-civ-spouse</td>\n",
              "      <td>Exec-managerial</td>\n",
              "      <td>Husband</td>\n",
              "      <td>White</td>\n",
              "      <td>Male</td>\n",
              "      <td>0</td>\n",
              "      <td>0</td>\n",
              "      <td>13</td>\n",
              "      <td>United-States</td>\n",
              "      <td>&lt;=50K</td>\n",
              "    </tr>\n",
              "    <tr>\n",
              "      <th>2</th>\n",
              "      <td>38</td>\n",
              "      <td>Private</td>\n",
              "      <td>215646</td>\n",
              "      <td>HS-grad</td>\n",
              "      <td>9</td>\n",
              "      <td>Divorced</td>\n",
              "      <td>Handlers-cleaners</td>\n",
              "      <td>Not-in-family</td>\n",
              "      <td>White</td>\n",
              "      <td>Male</td>\n",
              "      <td>0</td>\n",
              "      <td>0</td>\n",
              "      <td>40</td>\n",
              "      <td>United-States</td>\n",
              "      <td>&lt;=50K</td>\n",
              "    </tr>\n",
              "    <tr>\n",
              "      <th>3</th>\n",
              "      <td>53</td>\n",
              "      <td>Private</td>\n",
              "      <td>234721</td>\n",
              "      <td>11th</td>\n",
              "      <td>7</td>\n",
              "      <td>Married-civ-spouse</td>\n",
              "      <td>Handlers-cleaners</td>\n",
              "      <td>Husband</td>\n",
              "      <td>Black</td>\n",
              "      <td>Male</td>\n",
              "      <td>0</td>\n",
              "      <td>0</td>\n",
              "      <td>40</td>\n",
              "      <td>United-States</td>\n",
              "      <td>&lt;=50K</td>\n",
              "    </tr>\n",
              "    <tr>\n",
              "      <th>4</th>\n",
              "      <td>28</td>\n",
              "      <td>Private</td>\n",
              "      <td>338409</td>\n",
              "      <td>Bachelors</td>\n",
              "      <td>13</td>\n",
              "      <td>Married-civ-spouse</td>\n",
              "      <td>Prof-specialty</td>\n",
              "      <td>Wife</td>\n",
              "      <td>Black</td>\n",
              "      <td>Female</td>\n",
              "      <td>0</td>\n",
              "      <td>0</td>\n",
              "      <td>40</td>\n",
              "      <td>Cuba</td>\n",
              "      <td>&lt;=50K</td>\n",
              "    </tr>\n",
              "  </tbody>\n",
              "</table>\n",
              "</div>"
            ],
            "text/plain": [
              "   age          workclass  fnlwgt  ... hours-per-week  native-country  income\n",
              "0   39          State-gov   77516  ...             40   United-States   <=50K\n",
              "1   50   Self-emp-not-inc   83311  ...             13   United-States   <=50K\n",
              "2   38            Private  215646  ...             40   United-States   <=50K\n",
              "3   53            Private  234721  ...             40   United-States   <=50K\n",
              "4   28            Private  338409  ...             40            Cuba   <=50K\n",
              "\n",
              "[5 rows x 15 columns]"
            ]
          },
          "metadata": {
            "tags": []
          },
          "execution_count": 12
        }
      ]
    },
    {
      "cell_type": "markdown",
      "metadata": {
        "id": "_LhBac_sGOHz",
        "colab_type": "text"
      },
      "source": [
        "### take 10 line as train dataset\n"
      ]
    },
    {
      "cell_type": "code",
      "metadata": {
        "id": "PulMNqqGGOH2",
        "colab_type": "code",
        "colab": {}
      },
      "source": [
        "df=data[['native-country','capital-gain','capital-loss']]\n",
        "\n",
        "def checkone(num):\n",
        "    if num==0:\n",
        "        return 'None'\n",
        "    else:\n",
        "        return 'other'"
      ],
      "execution_count": 13,
      "outputs": []
    },
    {
      "cell_type": "markdown",
      "metadata": {
        "id": "FgmJIDrID5Ac",
        "colab_type": "text"
      },
      "source": [
        "### Select native-country, capital-gain, capital-loss as sample attributes.\n"
      ]
    },
    {
      "cell_type": "code",
      "metadata": {
        "id": "X00r_WHfGOH9",
        "colab_type": "code",
        "colab": {
          "base_uri": "https://localhost:8080/",
          "height": 707
        },
        "outputId": "7bacdf51-7058-4766-fc95-ec39903867d6"
      },
      "source": [
        "\n",
        "# capital columns\n",
        "df.iloc[:,1:3]=df.iloc[:,1:3].applymap(checkone)\n",
        "#country column\n",
        "df.loc[df['native-country']!=' United-States','native-country']='other'\n",
        "#df=df.head(10)\n",
        "df"
      ],
      "execution_count": 14,
      "outputs": [
        {
          "output_type": "stream",
          "text": [
            "/usr/local/lib/python3.6/dist-packages/pandas/core/indexing.py:966: SettingWithCopyWarning: \n",
            "A value is trying to be set on a copy of a slice from a DataFrame.\n",
            "Try using .loc[row_indexer,col_indexer] = value instead\n",
            "\n",
            "See the caveats in the documentation: https://pandas.pydata.org/pandas-docs/stable/user_guide/indexing.html#returning-a-view-versus-a-copy\n",
            "  self.obj[item] = s\n",
            "/usr/local/lib/python3.6/dist-packages/pandas/core/indexing.py:671: SettingWithCopyWarning: \n",
            "A value is trying to be set on a copy of a slice from a DataFrame\n",
            "\n",
            "See the caveats in the documentation: https://pandas.pydata.org/pandas-docs/stable/user_guide/indexing.html#returning-a-view-versus-a-copy\n",
            "  self._setitem_with_indexer(indexer, value)\n",
            "/usr/local/lib/python3.6/dist-packages/ipykernel_launcher.py:5: SettingWithCopyWarning: \n",
            "A value is trying to be set on a copy of a slice from a DataFrame\n",
            "\n",
            "See the caveats in the documentation: https://pandas.pydata.org/pandas-docs/stable/user_guide/indexing.html#returning-a-view-versus-a-copy\n",
            "  \"\"\"\n"
          ],
          "name": "stderr"
        },
        {
          "output_type": "execute_result",
          "data": {
            "text/html": [
              "<div>\n",
              "<style scoped>\n",
              "    .dataframe tbody tr th:only-of-type {\n",
              "        vertical-align: middle;\n",
              "    }\n",
              "\n",
              "    .dataframe tbody tr th {\n",
              "        vertical-align: top;\n",
              "    }\n",
              "\n",
              "    .dataframe thead th {\n",
              "        text-align: right;\n",
              "    }\n",
              "</style>\n",
              "<table border=\"1\" class=\"dataframe\">\n",
              "  <thead>\n",
              "    <tr style=\"text-align: right;\">\n",
              "      <th></th>\n",
              "      <th>native-country</th>\n",
              "      <th>capital-gain</th>\n",
              "      <th>capital-loss</th>\n",
              "    </tr>\n",
              "  </thead>\n",
              "  <tbody>\n",
              "    <tr>\n",
              "      <th>0</th>\n",
              "      <td>United-States</td>\n",
              "      <td>other</td>\n",
              "      <td>None</td>\n",
              "    </tr>\n",
              "    <tr>\n",
              "      <th>1</th>\n",
              "      <td>United-States</td>\n",
              "      <td>None</td>\n",
              "      <td>None</td>\n",
              "    </tr>\n",
              "    <tr>\n",
              "      <th>2</th>\n",
              "      <td>United-States</td>\n",
              "      <td>None</td>\n",
              "      <td>None</td>\n",
              "    </tr>\n",
              "    <tr>\n",
              "      <th>3</th>\n",
              "      <td>United-States</td>\n",
              "      <td>None</td>\n",
              "      <td>None</td>\n",
              "    </tr>\n",
              "    <tr>\n",
              "      <th>4</th>\n",
              "      <td>other</td>\n",
              "      <td>None</td>\n",
              "      <td>None</td>\n",
              "    </tr>\n",
              "    <tr>\n",
              "      <th>...</th>\n",
              "      <td>...</td>\n",
              "      <td>...</td>\n",
              "      <td>...</td>\n",
              "    </tr>\n",
              "    <tr>\n",
              "      <th>32556</th>\n",
              "      <td>United-States</td>\n",
              "      <td>None</td>\n",
              "      <td>None</td>\n",
              "    </tr>\n",
              "    <tr>\n",
              "      <th>32557</th>\n",
              "      <td>United-States</td>\n",
              "      <td>None</td>\n",
              "      <td>None</td>\n",
              "    </tr>\n",
              "    <tr>\n",
              "      <th>32558</th>\n",
              "      <td>United-States</td>\n",
              "      <td>None</td>\n",
              "      <td>None</td>\n",
              "    </tr>\n",
              "    <tr>\n",
              "      <th>32559</th>\n",
              "      <td>United-States</td>\n",
              "      <td>None</td>\n",
              "      <td>None</td>\n",
              "    </tr>\n",
              "    <tr>\n",
              "      <th>32560</th>\n",
              "      <td>United-States</td>\n",
              "      <td>other</td>\n",
              "      <td>None</td>\n",
              "    </tr>\n",
              "  </tbody>\n",
              "</table>\n",
              "<p>32561 rows × 3 columns</p>\n",
              "</div>"
            ],
            "text/plain": [
              "       native-country capital-gain capital-loss\n",
              "0       United-States        other         None\n",
              "1       United-States         None         None\n",
              "2       United-States         None         None\n",
              "3       United-States         None         None\n",
              "4               other         None         None\n",
              "...               ...          ...          ...\n",
              "32556   United-States         None         None\n",
              "32557   United-States         None         None\n",
              "32558   United-States         None         None\n",
              "32559   United-States         None         None\n",
              "32560   United-States        other         None\n",
              "\n",
              "[32561 rows x 3 columns]"
            ]
          },
          "metadata": {
            "tags": []
          },
          "execution_count": 14
        }
      ]
    },
    {
      "cell_type": "markdown",
      "metadata": {
        "id": "JHnNcEFMEEG3",
        "colab_type": "text"
      },
      "source": [
        "### Create form as attribute=value."
      ]
    },
    {
      "cell_type": "code",
      "metadata": {
        "scrolled": true,
        "id": "n8e5zn9LGOIJ",
        "colab_type": "code",
        "colab": {
          "base_uri": "https://localhost:8080/",
          "height": 35
        },
        "outputId": "c6aaa37e-83f2-41e5-b3d5-66d6793034b7"
      },
      "source": [
        "records = []\n",
        "for i in range(0, len(df)):\n",
        "    records.append([df.columns[j]+'='+str(df.values[i,j]).strip()  for j in range(0, len(df.columns))])\n",
        "records[0]"
      ],
      "execution_count": 15,
      "outputs": [
        {
          "output_type": "execute_result",
          "data": {
            "text/plain": [
              "['native-country=United-States', 'capital-gain=other', 'capital-loss=None']"
            ]
          },
          "metadata": {
            "tags": []
          },
          "execution_count": 15
        }
      ]
    },
    {
      "cell_type": "markdown",
      "metadata": {
        "id": "L570vTsjEM8g",
        "colab_type": "text"
      },
      "source": [
        "### Create support value table via apriori function.\n",
        "\n"
      ]
    },
    {
      "cell_type": "code",
      "metadata": {
        "id": "B7B0k088GOIS",
        "colab_type": "code",
        "colab": {
          "base_uri": "https://localhost:8080/",
          "height": 35
        },
        "outputId": "4953f6ac-b114-4a1e-ac45-c5b7c43aaf6f"
      },
      "source": [
        "# Here we choose the max_length of 3, while in real data we should not limit the max_length.\n",
        "association_rules = apriori(records, min_support = 0.3, min_confidence = 0.2, min_lift = 1, min_length = 2, max_length = 3)\n",
        "association_results = list(association_rules)\n",
        "association_results[0]"
      ],
      "execution_count": 16,
      "outputs": [
        {
          "output_type": "execute_result",
          "data": {
            "text/plain": [
              "RelationRecord(items=frozenset({'capital-gain=None'}), support=0.9167101747489328, ordered_statistics=[OrderedStatistic(items_base=frozenset(), items_add=frozenset({'capital-gain=None'}), confidence=0.9167101747489328, lift=1.0)])"
            ]
          },
          "metadata": {
            "tags": []
          },
          "execution_count": 16
        }
      ]
    },
    {
      "cell_type": "code",
      "metadata": {
        "id": "Z2gRpvbwGOIb",
        "colab_type": "code",
        "colab": {
          "base_uri": "https://localhost:8080/",
          "height": 266
        },
        "outputId": "6ee3583d-37cf-4b19-877c-442e0e09be59"
      },
      "source": [
        "results=[]\n",
        "\n",
        "for item in association_results[:]:\n",
        "    \n",
        "    value0=set(item[0])\n",
        "    value1=str(item[1])\n",
        "    \n",
        "    rows=(value0,value1)\n",
        "    results.append(rows)\n",
        "\n",
        "labels=['Set','Support']\n",
        "\n",
        "census=pd.DataFrame.from_records(results,columns=labels)\n",
        "\n",
        "census"
      ],
      "execution_count": 17,
      "outputs": [
        {
          "output_type": "execute_result",
          "data": {
            "text/html": [
              "<div>\n",
              "<style scoped>\n",
              "    .dataframe tbody tr th:only-of-type {\n",
              "        vertical-align: middle;\n",
              "    }\n",
              "\n",
              "    .dataframe tbody tr th {\n",
              "        vertical-align: top;\n",
              "    }\n",
              "\n",
              "    .dataframe thead th {\n",
              "        text-align: right;\n",
              "    }\n",
              "</style>\n",
              "<table border=\"1\" class=\"dataframe\">\n",
              "  <thead>\n",
              "    <tr style=\"text-align: right;\">\n",
              "      <th></th>\n",
              "      <th>Set</th>\n",
              "      <th>Support</th>\n",
              "    </tr>\n",
              "  </thead>\n",
              "  <tbody>\n",
              "    <tr>\n",
              "      <th>0</th>\n",
              "      <td>{capital-gain=None}</td>\n",
              "      <td>0.9167101747489328</td>\n",
              "    </tr>\n",
              "    <tr>\n",
              "      <th>1</th>\n",
              "      <td>{capital-loss=None}</td>\n",
              "      <td>0.9533490986149074</td>\n",
              "    </tr>\n",
              "    <tr>\n",
              "      <th>2</th>\n",
              "      <td>{native-country=United-States}</td>\n",
              "      <td>0.895857006848684</td>\n",
              "    </tr>\n",
              "    <tr>\n",
              "      <th>3</th>\n",
              "      <td>{capital-loss=None, capital-gain=None}</td>\n",
              "      <td>0.8700592733638401</td>\n",
              "    </tr>\n",
              "    <tr>\n",
              "      <th>4</th>\n",
              "      <td>{capital-gain=None, native-country=United-States}</td>\n",
              "      <td>0.8199686741807684</td>\n",
              "    </tr>\n",
              "    <tr>\n",
              "      <th>5</th>\n",
              "      <td>{capital-loss=None, native-country=United-States}</td>\n",
              "      <td>0.8535057277110654</td>\n",
              "    </tr>\n",
              "    <tr>\n",
              "      <th>6</th>\n",
              "      <td>{capital-loss=None, capital-gain=None, native-...</td>\n",
              "      <td>0.7776173950431498</td>\n",
              "    </tr>\n",
              "  </tbody>\n",
              "</table>\n",
              "</div>"
            ],
            "text/plain": [
              "                                                 Set             Support\n",
              "0                                {capital-gain=None}  0.9167101747489328\n",
              "1                                {capital-loss=None}  0.9533490986149074\n",
              "2                     {native-country=United-States}   0.895857006848684\n",
              "3             {capital-loss=None, capital-gain=None}  0.8700592733638401\n",
              "4  {capital-gain=None, native-country=United-States}  0.8199686741807684\n",
              "5  {capital-loss=None, native-country=United-States}  0.8535057277110654\n",
              "6  {capital-loss=None, capital-gain=None, native-...  0.7776173950431498"
            ]
          },
          "metadata": {
            "tags": []
          },
          "execution_count": 17
        }
      ]
    },
    {
      "cell_type": "markdown",
      "metadata": {
        "id": "jQIMnUbsySpR",
        "colab_type": "text"
      },
      "source": [
        "### Set sample input"
      ]
    },
    {
      "cell_type": "code",
      "metadata": {
        "id": "ydmt3CeoGOIg",
        "colab_type": "code",
        "colab": {}
      },
      "source": [
        "#test=input()\n",
        "\n",
        "rules='3 {native-country=United-States,capital-gain=None}=>{capital-loss=None} {capital-gain=None,capital-loss=None}=>{native-country=United-States} {native-country=United-States,capital-loss=None}=>{capital-gain=None}'\n"
      ],
      "execution_count": 19,
      "outputs": []
    },
    {
      "cell_type": "markdown",
      "metadata": {
        "id": "qQW4s9pVyImf",
        "colab_type": "text"
      },
      "source": [
        "### Creating temporary function"
      ]
    },
    {
      "cell_type": "code",
      "metadata": {
        "id": "LI3yx_cFGOIm",
        "colab_type": "code",
        "colab": {}
      },
      "source": [
        "def arrangingRules(rules):\n",
        "  length=int(rules.split()[0])\n",
        "  rule_list=rules.split()[1:]\n",
        "    \n",
        "  unsort_rules_list=[]\n",
        "\n",
        "  \n",
        "  for item in rule_list:\n",
        "    #cut the useless punctuation \n",
        "    X=set(item.split('=>')[0].strip(string.punctuation).split(','))\n",
        "    Y=set(item.split('=>')[1].strip(string.punctuation).split(','))\n",
        "        \n",
        "    #Use set calculation to get confidence of rules\n",
        "    support_xy=float(census.loc[census['Set']==X.union(Y),'Support'])\n",
        "    support_x=float(census.loc[census['Set']==X,'Support'])\n",
        "        \n",
        "    confidence=support_xy/support_x\n",
        "    \n",
        "    rows=(item,confidence)\n",
        "        \n",
        "    unsort_rules_list.append(rows)\n",
        "  lables=['X=>Y','Confidence']\n",
        "\n",
        "  # Store unsorted rules\n",
        "  unsort_rules=pd.DataFrame.from_records(unsort_rules_list,columns=lables)\n",
        "  \n",
        "  # Print out final sorted rules\n",
        "  print(unsort_rules.sort_values('Confidence',ascending=False).iloc[:,0].to_string(index=False))\n",
        "    "
      ],
      "execution_count": 20,
      "outputs": []
    },
    {
      "cell_type": "markdown",
      "metadata": {
        "id": "m04u6U-VyYZs",
        "colab_type": "text"
      },
      "source": [
        "### Check function result."
      ]
    },
    {
      "cell_type": "code",
      "metadata": {
        "id": "xCzcYXReGOIq",
        "colab_type": "code",
        "colab": {
          "base_uri": "https://localhost:8080/",
          "height": 71
        },
        "outputId": "f9a319f2-acc0-4a31-a767-7351160ef3fa"
      },
      "source": [
        "df=arrangingRules(rules)\n",
        "df"
      ],
      "execution_count": 21,
      "outputs": [
        {
          "output_type": "stream",
          "text": [
            " {native-country=United-States,capital-gain=Non...\n",
            " {native-country=United-States,capital-loss=Non...\n",
            " {capital-gain=None,capital-loss=None}=>{native...\n"
          ],
          "name": "stdout"
        }
      ]
    },
    {
      "cell_type": "markdown",
      "metadata": {
        "id": "F9Zs3xfuycOh",
        "colab_type": "text"
      },
      "source": [
        "We got the same result as we calculate before. The format also fit the requirement.\n",
        "\n"
      ]
    },
    {
      "cell_type": "markdown",
      "metadata": {
        "id": "L_t0vsYnGOIu",
        "colab_type": "text"
      },
      "source": [
        "# Above is all the function\n",
        "\n",
        "### below is steps in writing function"
      ]
    },
    {
      "cell_type": "code",
      "metadata": {
        "id": "QQw9n2gezZPT",
        "colab_type": "code",
        "colab": {
          "base_uri": "https://localhost:8080/",
          "height": 359
        },
        "outputId": "4ed77ef8-ed0b-4a21-e26f-ae397a7d765b"
      },
      "source": [
        "def arrangingRules(rules):\n",
        "  # Import necessary packages\n",
        "  import pandas as pd\n",
        "  import string\n",
        "  !pip install -q apyori\n",
        "  from apyori import apriori\n",
        "\n",
        "  # Processing data\n",
        "  names = [\n",
        "    'age',\n",
        "    'workclass',\n",
        "    'fnlwgt',\n",
        "    'education',\n",
        "    'education-num',\n",
        "    'marital-status',\n",
        "    'occupation',\n",
        "    'relationship',\n",
        "    'race',\n",
        "    'sex',\n",
        "    'capital-gain',\n",
        "    'capital-loss',\n",
        "    'hours-per-week',\n",
        "    'native-country',\n",
        "    'income',\n",
        "  ]\n",
        "  df = pd.read_csv('adult.data', names=names)\n",
        "\n",
        "  # Format the origin data\n",
        "  records = []\n",
        "  for i in range(0, len(df)):\n",
        "      records.append([df.columns[j]+'='+str(df.values[i,j]).strip()  for j in range(0, len(df.columns))])\n",
        "  records[0]\n",
        "\n",
        "  # Create rules and relative support\n",
        "  association_rules = apriori(records, min_support = 0.3, min_confidence = 0.2, min_lift = 1, min_length = 2, max_length = 12)\n",
        "  association_results = list(association_rules)\n",
        "\n",
        "  # Create support table\n",
        "  length=int(rules.split()[0])\n",
        "  rule_list=rules.split()[1:]\n",
        "    \n",
        "  unsort_rules_list=[]\n",
        "\n",
        "  results=[]\n",
        "\n",
        "  for item in association_results[:]:\n",
        "\n",
        "    value0=set(item[0])\n",
        "    value1=str(item[1])\n",
        "      \n",
        "    rows=(value0,value1)\n",
        "    results.append(rows)\n",
        "\n",
        "  labels=['Set','Support']\n",
        "\n",
        "  census=pd.DataFrame.from_records(results,columns=labels)\n",
        "\n",
        "  for item in rule_list:\n",
        "    #cut the useless punctuation \n",
        "    X=set(item.split('=>')[0].strip(string.punctuation).split(','))\n",
        "    Y=set(item.split('=>')[1].strip(string.punctuation).split(','))\n",
        "        \n",
        "    #Use set calculation to get confidence of rules\n",
        "    support_xy=float(census.loc[census['Set']==X.union(Y),'Support'])\n",
        "    support_x=float(census.loc[census['Set']==X,'Support'])\n",
        "        \n",
        "    confidence=support_xy/support_x\n",
        "    \n",
        "    rows=(item,confidence)\n",
        "        \n",
        "    unsort_rules_list.append(rows)\n",
        "  lables=['X=>Y','Confidence']\n",
        "\n",
        "  # Store unsorted rules\n",
        "  unsort_rules=pd.DataFrame.from_records(unsort_rules_list,columns=lables)\n",
        "  \n",
        "  # Print out final sorted rules\n",
        "  print(unsort_rules.sort_values('Confidence',ascending=False).iloc[:,0].to_string(index=False))\n",
        "\n",
        "\n",
        "arrangingRules(rules)"
      ],
      "execution_count": 24,
      "outputs": [
        {
          "output_type": "error",
          "ename": "KeyboardInterrupt",
          "evalue": "ignored",
          "traceback": [
            "\u001b[0;31m---------------------------------------------------------------------------\u001b[0m",
            "\u001b[0;31mKeyboardInterrupt\u001b[0m                         Traceback (most recent call last)",
            "\u001b[0;32m<ipython-input-24-8df5e50dc502>\u001b[0m in \u001b[0;36m<module>\u001b[0;34m()\u001b[0m\n\u001b[1;32m     79\u001b[0m \u001b[0;34m\u001b[0m\u001b[0m\n\u001b[1;32m     80\u001b[0m \u001b[0;34m\u001b[0m\u001b[0m\n\u001b[0;32m---> 81\u001b[0;31m \u001b[0marrangingRules\u001b[0m\u001b[0;34m(\u001b[0m\u001b[0mrules\u001b[0m\u001b[0;34m)\u001b[0m\u001b[0;34m\u001b[0m\u001b[0;34m\u001b[0m\u001b[0m\n\u001b[0m",
            "\u001b[0;32m<ipython-input-24-8df5e50dc502>\u001b[0m in \u001b[0;36marrangingRules\u001b[0;34m(rules)\u001b[0m\n\u001b[1;32m     29\u001b[0m   \u001b[0mrecords\u001b[0m \u001b[0;34m=\u001b[0m \u001b[0;34m[\u001b[0m\u001b[0;34m]\u001b[0m\u001b[0;34m\u001b[0m\u001b[0;34m\u001b[0m\u001b[0m\n\u001b[1;32m     30\u001b[0m   \u001b[0;32mfor\u001b[0m \u001b[0mi\u001b[0m \u001b[0;32min\u001b[0m \u001b[0mrange\u001b[0m\u001b[0;34m(\u001b[0m\u001b[0;36m0\u001b[0m\u001b[0;34m,\u001b[0m \u001b[0mlen\u001b[0m\u001b[0;34m(\u001b[0m\u001b[0mdf\u001b[0m\u001b[0;34m)\u001b[0m\u001b[0;34m)\u001b[0m\u001b[0;34m:\u001b[0m\u001b[0;34m\u001b[0m\u001b[0;34m\u001b[0m\u001b[0m\n\u001b[0;32m---> 31\u001b[0;31m       \u001b[0mrecords\u001b[0m\u001b[0;34m.\u001b[0m\u001b[0mappend\u001b[0m\u001b[0;34m(\u001b[0m\u001b[0;34m[\u001b[0m\u001b[0mdf\u001b[0m\u001b[0;34m.\u001b[0m\u001b[0mcolumns\u001b[0m\u001b[0;34m[\u001b[0m\u001b[0mj\u001b[0m\u001b[0;34m]\u001b[0m\u001b[0;34m+\u001b[0m\u001b[0;34m'='\u001b[0m\u001b[0;34m+\u001b[0m\u001b[0mstr\u001b[0m\u001b[0;34m(\u001b[0m\u001b[0mdf\u001b[0m\u001b[0;34m.\u001b[0m\u001b[0mvalues\u001b[0m\u001b[0;34m[\u001b[0m\u001b[0mi\u001b[0m\u001b[0;34m,\u001b[0m\u001b[0mj\u001b[0m\u001b[0;34m]\u001b[0m\u001b[0;34m)\u001b[0m\u001b[0;34m.\u001b[0m\u001b[0mstrip\u001b[0m\u001b[0;34m(\u001b[0m\u001b[0;34m)\u001b[0m  \u001b[0;32mfor\u001b[0m \u001b[0mj\u001b[0m \u001b[0;32min\u001b[0m \u001b[0mrange\u001b[0m\u001b[0;34m(\u001b[0m\u001b[0;36m0\u001b[0m\u001b[0;34m,\u001b[0m \u001b[0mlen\u001b[0m\u001b[0;34m(\u001b[0m\u001b[0mdf\u001b[0m\u001b[0;34m.\u001b[0m\u001b[0mcolumns\u001b[0m\u001b[0;34m)\u001b[0m\u001b[0;34m)\u001b[0m\u001b[0;34m]\u001b[0m\u001b[0;34m)\u001b[0m\u001b[0;34m\u001b[0m\u001b[0;34m\u001b[0m\u001b[0m\n\u001b[0m\u001b[1;32m     32\u001b[0m   \u001b[0mrecords\u001b[0m\u001b[0;34m[\u001b[0m\u001b[0;36m0\u001b[0m\u001b[0;34m]\u001b[0m\u001b[0;34m\u001b[0m\u001b[0;34m\u001b[0m\u001b[0m\n\u001b[1;32m     33\u001b[0m \u001b[0;34m\u001b[0m\u001b[0m\n",
            "\u001b[0;32m<ipython-input-24-8df5e50dc502>\u001b[0m in \u001b[0;36m<listcomp>\u001b[0;34m(.0)\u001b[0m\n\u001b[1;32m     29\u001b[0m   \u001b[0mrecords\u001b[0m \u001b[0;34m=\u001b[0m \u001b[0;34m[\u001b[0m\u001b[0;34m]\u001b[0m\u001b[0;34m\u001b[0m\u001b[0;34m\u001b[0m\u001b[0m\n\u001b[1;32m     30\u001b[0m   \u001b[0;32mfor\u001b[0m \u001b[0mi\u001b[0m \u001b[0;32min\u001b[0m \u001b[0mrange\u001b[0m\u001b[0;34m(\u001b[0m\u001b[0;36m0\u001b[0m\u001b[0;34m,\u001b[0m \u001b[0mlen\u001b[0m\u001b[0;34m(\u001b[0m\u001b[0mdf\u001b[0m\u001b[0;34m)\u001b[0m\u001b[0;34m)\u001b[0m\u001b[0;34m:\u001b[0m\u001b[0;34m\u001b[0m\u001b[0;34m\u001b[0m\u001b[0m\n\u001b[0;32m---> 31\u001b[0;31m       \u001b[0mrecords\u001b[0m\u001b[0;34m.\u001b[0m\u001b[0mappend\u001b[0m\u001b[0;34m(\u001b[0m\u001b[0;34m[\u001b[0m\u001b[0mdf\u001b[0m\u001b[0;34m.\u001b[0m\u001b[0mcolumns\u001b[0m\u001b[0;34m[\u001b[0m\u001b[0mj\u001b[0m\u001b[0;34m]\u001b[0m\u001b[0;34m+\u001b[0m\u001b[0;34m'='\u001b[0m\u001b[0;34m+\u001b[0m\u001b[0mstr\u001b[0m\u001b[0;34m(\u001b[0m\u001b[0mdf\u001b[0m\u001b[0;34m.\u001b[0m\u001b[0mvalues\u001b[0m\u001b[0;34m[\u001b[0m\u001b[0mi\u001b[0m\u001b[0;34m,\u001b[0m\u001b[0mj\u001b[0m\u001b[0;34m]\u001b[0m\u001b[0;34m)\u001b[0m\u001b[0;34m.\u001b[0m\u001b[0mstrip\u001b[0m\u001b[0;34m(\u001b[0m\u001b[0;34m)\u001b[0m  \u001b[0;32mfor\u001b[0m \u001b[0mj\u001b[0m \u001b[0;32min\u001b[0m \u001b[0mrange\u001b[0m\u001b[0;34m(\u001b[0m\u001b[0;36m0\u001b[0m\u001b[0;34m,\u001b[0m \u001b[0mlen\u001b[0m\u001b[0;34m(\u001b[0m\u001b[0mdf\u001b[0m\u001b[0;34m.\u001b[0m\u001b[0mcolumns\u001b[0m\u001b[0;34m)\u001b[0m\u001b[0;34m)\u001b[0m\u001b[0;34m]\u001b[0m\u001b[0;34m)\u001b[0m\u001b[0;34m\u001b[0m\u001b[0;34m\u001b[0m\u001b[0m\n\u001b[0m\u001b[1;32m     32\u001b[0m   \u001b[0mrecords\u001b[0m\u001b[0;34m[\u001b[0m\u001b[0;36m0\u001b[0m\u001b[0;34m]\u001b[0m\u001b[0;34m\u001b[0m\u001b[0;34m\u001b[0m\u001b[0m\n\u001b[1;32m     33\u001b[0m \u001b[0;34m\u001b[0m\u001b[0m\n",
            "\u001b[0;32m/usr/local/lib/python3.6/dist-packages/pandas/core/generic.py\u001b[0m in \u001b[0;36mvalues\u001b[0;34m(self)\u001b[0m\n\u001b[1;32m   5485\u001b[0m         \"\"\"\n\u001b[1;32m   5486\u001b[0m         \u001b[0mself\u001b[0m\u001b[0;34m.\u001b[0m\u001b[0m_consolidate_inplace\u001b[0m\u001b[0;34m(\u001b[0m\u001b[0;34m)\u001b[0m\u001b[0;34m\u001b[0m\u001b[0;34m\u001b[0m\u001b[0m\n\u001b[0;32m-> 5487\u001b[0;31m         \u001b[0;32mreturn\u001b[0m \u001b[0mself\u001b[0m\u001b[0;34m.\u001b[0m\u001b[0m_data\u001b[0m\u001b[0;34m.\u001b[0m\u001b[0mas_array\u001b[0m\u001b[0;34m(\u001b[0m\u001b[0mtranspose\u001b[0m\u001b[0;34m=\u001b[0m\u001b[0mself\u001b[0m\u001b[0;34m.\u001b[0m\u001b[0m_AXIS_REVERSED\u001b[0m\u001b[0;34m)\u001b[0m\u001b[0;34m\u001b[0m\u001b[0;34m\u001b[0m\u001b[0m\n\u001b[0m\u001b[1;32m   5488\u001b[0m \u001b[0;34m\u001b[0m\u001b[0m\n\u001b[1;32m   5489\u001b[0m     \u001b[0;34m@\u001b[0m\u001b[0mproperty\u001b[0m\u001b[0;34m\u001b[0m\u001b[0;34m\u001b[0m\u001b[0m\n",
            "\u001b[0;32m/usr/local/lib/python3.6/dist-packages/pandas/core/internals/managers.py\u001b[0m in \u001b[0;36mas_array\u001b[0;34m(self, transpose, items)\u001b[0m\n\u001b[1;32m    828\u001b[0m             \u001b[0marr\u001b[0m \u001b[0;34m=\u001b[0m \u001b[0mnp\u001b[0m\u001b[0;34m.\u001b[0m\u001b[0masarray\u001b[0m\u001b[0;34m(\u001b[0m\u001b[0mmgr\u001b[0m\u001b[0;34m.\u001b[0m\u001b[0mblocks\u001b[0m\u001b[0;34m[\u001b[0m\u001b[0;36m0\u001b[0m\u001b[0;34m]\u001b[0m\u001b[0;34m.\u001b[0m\u001b[0mget_values\u001b[0m\u001b[0;34m(\u001b[0m\u001b[0;34m)\u001b[0m\u001b[0;34m)\u001b[0m\u001b[0;34m\u001b[0m\u001b[0;34m\u001b[0m\u001b[0m\n\u001b[1;32m    829\u001b[0m         \u001b[0;32melse\u001b[0m\u001b[0;34m:\u001b[0m\u001b[0;34m\u001b[0m\u001b[0;34m\u001b[0m\u001b[0m\n\u001b[0;32m--> 830\u001b[0;31m             \u001b[0marr\u001b[0m \u001b[0;34m=\u001b[0m \u001b[0mmgr\u001b[0m\u001b[0;34m.\u001b[0m\u001b[0m_interleave\u001b[0m\u001b[0;34m(\u001b[0m\u001b[0;34m)\u001b[0m\u001b[0;34m\u001b[0m\u001b[0;34m\u001b[0m\u001b[0m\n\u001b[0m\u001b[1;32m    831\u001b[0m \u001b[0;34m\u001b[0m\u001b[0m\n\u001b[1;32m    832\u001b[0m         \u001b[0;32mreturn\u001b[0m \u001b[0marr\u001b[0m\u001b[0;34m.\u001b[0m\u001b[0mtranspose\u001b[0m\u001b[0;34m(\u001b[0m\u001b[0;34m)\u001b[0m \u001b[0;32mif\u001b[0m \u001b[0mtranspose\u001b[0m \u001b[0;32melse\u001b[0m \u001b[0marr\u001b[0m\u001b[0;34m\u001b[0m\u001b[0;34m\u001b[0m\u001b[0m\n",
            "\u001b[0;32m/usr/local/lib/python3.6/dist-packages/pandas/core/internals/managers.py\u001b[0m in \u001b[0;36m_interleave\u001b[0;34m(self)\u001b[0m\n\u001b[1;32m    846\u001b[0m             \u001b[0mdtype\u001b[0m \u001b[0;34m=\u001b[0m \u001b[0;34m\"object\"\u001b[0m\u001b[0;34m\u001b[0m\u001b[0;34m\u001b[0m\u001b[0m\n\u001b[1;32m    847\u001b[0m \u001b[0;34m\u001b[0m\u001b[0m\n\u001b[0;32m--> 848\u001b[0;31m         \u001b[0mresult\u001b[0m \u001b[0;34m=\u001b[0m \u001b[0mnp\u001b[0m\u001b[0;34m.\u001b[0m\u001b[0mempty\u001b[0m\u001b[0;34m(\u001b[0m\u001b[0mself\u001b[0m\u001b[0;34m.\u001b[0m\u001b[0mshape\u001b[0m\u001b[0;34m,\u001b[0m \u001b[0mdtype\u001b[0m\u001b[0;34m=\u001b[0m\u001b[0mdtype\u001b[0m\u001b[0;34m)\u001b[0m\u001b[0;34m\u001b[0m\u001b[0;34m\u001b[0m\u001b[0m\n\u001b[0m\u001b[1;32m    849\u001b[0m \u001b[0;34m\u001b[0m\u001b[0m\n\u001b[1;32m    850\u001b[0m         \u001b[0mitemmask\u001b[0m \u001b[0;34m=\u001b[0m \u001b[0mnp\u001b[0m\u001b[0;34m.\u001b[0m\u001b[0mzeros\u001b[0m\u001b[0;34m(\u001b[0m\u001b[0mself\u001b[0m\u001b[0;34m.\u001b[0m\u001b[0mshape\u001b[0m\u001b[0;34m[\u001b[0m\u001b[0;36m0\u001b[0m\u001b[0;34m]\u001b[0m\u001b[0;34m)\u001b[0m\u001b[0;34m\u001b[0m\u001b[0;34m\u001b[0m\u001b[0m\n",
            "\u001b[0;31mKeyboardInterrupt\u001b[0m: "
          ]
        }
      ]
    }
  ]
}